{
 "cells": [
  {
   "cell_type": "code",
   "execution_count": 1,
   "metadata": {},
   "outputs": [],
   "source": [
    "import numpy as np\n",
    "import pandas as pd"
   ]
  },
  {
   "cell_type": "code",
   "execution_count": 2,
   "metadata": {},
   "outputs": [
    {
     "name": "stdout",
     "output_type": "stream",
     "text": [
      "       Cities      Names\n",
      "0  James Town     Akwele\n",
      "1      Labadi     Korkor\n",
      "2    Kojokrom  Ewuradwoa\n",
      "3     Adukrom        Yaa\n",
      "4       Buipe     Akorfa\n",
      "5    Walewale     Malema\n"
     ]
    }
   ],
   "source": [
    "Cities = pd.DataFrame({'Cities':['James Town','Labadi', 'Kojokrom', 'Adukrom', 'Buipe', 'Walewale'], 'Names':['Akwele','Korkor', 'Ewuradwoa', 'Yaa', 'Akorfa', 'Malema']})\n",
    "print(Cities)"
   ]
  },
  {
   "cell_type": "code",
   "execution_count": 3,
   "metadata": {},
   "outputs": [
    {
     "name": "stdout",
     "output_type": "stream",
     "text": [
      "   Hire_Data      Names\n",
      "0       2009     Korkor\n",
      "1       2010  Ewuradwoa\n",
      "2       2008        Yaa\n",
      "3       2011     Akorfa\n",
      "4       2012     Malema\n",
      "5       2013        Zoe\n"
     ]
    }
   ],
   "source": [
    "Employee = pd.DataFrame({'Hire_Data':[2009, 2010, 2008, 2011, 2012, 2013], 'Names':['Korkor', 'Ewuradwoa', 'Yaa', 'Akorfa', 'Malema', 'Zoe']})\n",
    "print(Employee)"
   ]
  },
  {
   "cell_type": "code",
   "execution_count": 4,
   "metadata": {},
   "outputs": [
    {
     "name": "stdout",
     "output_type": "stream",
     "text": [
      "     Cities      Names  Hire_Data _merge\n",
      "0    Labadi     Korkor       2009   both\n",
      "1  Kojokrom  Ewuradwoa       2010   both\n",
      "2   Adukrom        Yaa       2008   both\n",
      "3     Buipe     Akorfa       2011   both\n",
      "4  Walewale     Malema       2012   both\n"
     ]
    }
   ],
   "source": [
    "print(pd.merge(Cities, Employee, indicator = True))"
   ]
  },
  {
   "cell_type": "code",
   "execution_count": 5,
   "metadata": {},
   "outputs": [
    {
     "name": "stdout",
     "output_type": "stream",
     "text": [
      "       Cities      Names  Hire_Data     _merge\n",
      "0  James Town     Akwele        NaN  left_only\n",
      "1      Labadi     Korkor     2009.0       both\n",
      "2    Kojokrom  Ewuradwoa     2010.0       both\n",
      "3     Adukrom        Yaa     2008.0       both\n",
      "4       Buipe     Akorfa     2011.0       both\n",
      "5    Walewale     Malema     2012.0       both\n"
     ]
    }
   ],
   "source": [
    "print(pd.merge(Cities, Employee, on = 'Names', how = 'left', indicator = True))"
   ]
  },
  {
   "cell_type": "code",
   "execution_count": 6,
   "metadata": {},
   "outputs": [
    {
     "name": "stdout",
     "output_type": "stream",
     "text": [
      "     Cities      Names  Hire_Data      _merge\n",
      "0    Labadi     Korkor       2009        both\n",
      "1  Kojokrom  Ewuradwoa       2010        both\n",
      "2   Adukrom        Yaa       2008        both\n",
      "3     Buipe     Akorfa       2011        both\n",
      "4  Walewale     Malema       2012        both\n",
      "5       NaN        Zoe       2013  right_only\n"
     ]
    }
   ],
   "source": [
    "print(pd.merge(Cities, Employee, on = 'Names', how = 'right', indicator = True))"
   ]
  },
  {
   "cell_type": "code",
   "execution_count": 7,
   "metadata": {},
   "outputs": [
    {
     "name": "stdout",
     "output_type": "stream",
     "text": [
      "     Cities      Names  Hire_Data _merge\n",
      "0    Labadi     Korkor       2009   both\n",
      "1  Kojokrom  Ewuradwoa       2010   both\n",
      "2   Adukrom        Yaa       2008   both\n",
      "3     Buipe     Akorfa       2011   both\n",
      "4  Walewale     Malema       2012   both\n"
     ]
    }
   ],
   "source": [
    "print(pd.merge(Cities, Employee, on = 'Names', how = 'inner', indicator = True))"
   ]
  },
  {
   "cell_type": "code",
   "execution_count": 8,
   "metadata": {},
   "outputs": [
    {
     "name": "stdout",
     "output_type": "stream",
     "text": [
      "       Cities      Names  Hire_Data      _merge\n",
      "0  James Town     Akwele        NaN   left_only\n",
      "1      Labadi     Korkor     2009.0        both\n",
      "2    Kojokrom  Ewuradwoa     2010.0        both\n",
      "3     Adukrom        Yaa     2008.0        both\n",
      "4       Buipe     Akorfa     2011.0        both\n",
      "5    Walewale     Malema     2012.0        both\n",
      "6         NaN        Zoe     2013.0  right_only\n"
     ]
    }
   ],
   "source": [
    "print(pd.merge(Cities, Employee, on = 'Names', how = 'outer', indicator = True))"
   ]
  },
  {
   "cell_type": "code",
   "execution_count": 9,
   "metadata": {},
   "outputs": [
    {
     "name": "stdout",
     "output_type": "stream",
     "text": [
      "   Hire_Data      Names    Cities     _merge\n",
      "0       2009     Korkor    Labadi       both\n",
      "1       2010  Ewuradwoa  Kojokrom       both\n",
      "2       2008        Yaa   Adukrom       both\n",
      "3       2011     Akorfa     Buipe       both\n",
      "4       2012     Malema  Walewale       both\n",
      "5       2013        Zoe       NaN  left_only\n"
     ]
    }
   ],
   "source": [
    "print(pd.merge(Employee, Cities, on = 'Names', how = 'left', indicator = True))"
   ]
  },
  {
   "cell_type": "code",
   "execution_count": 10,
   "metadata": {},
   "outputs": [
    {
     "name": "stdout",
     "output_type": "stream",
     "text": [
      "   Hire_Data      Names      Cities      _merge\n",
      "0     2009.0     Korkor      Labadi        both\n",
      "1     2010.0  Ewuradwoa    Kojokrom        both\n",
      "2     2008.0        Yaa     Adukrom        both\n",
      "3     2011.0     Akorfa       Buipe        both\n",
      "4     2012.0     Malema    Walewale        both\n",
      "5        NaN     Akwele  James Town  right_only\n"
     ]
    }
   ],
   "source": [
    "print(pd.merge(Employee, Cities, on = 'Names', how = 'right', indicator = True))"
   ]
  },
  {
   "cell_type": "code",
   "execution_count": 11,
   "metadata": {},
   "outputs": [
    {
     "name": "stdout",
     "output_type": "stream",
     "text": [
      "   Hire_Data      Names    Cities _merge\n",
      "0       2009     Korkor    Labadi   both\n",
      "1       2010  Ewuradwoa  Kojokrom   both\n",
      "2       2008        Yaa   Adukrom   both\n",
      "3       2011     Akorfa     Buipe   both\n",
      "4       2012     Malema  Walewale   both\n"
     ]
    }
   ],
   "source": [
    "print(pd.merge(Employee, Cities, on = 'Names', how = 'inner', indicator = True))"
   ]
  },
  {
   "cell_type": "code",
   "execution_count": 12,
   "metadata": {},
   "outputs": [
    {
     "name": "stdout",
     "output_type": "stream",
     "text": [
      "   Hire_Data      Names      Cities      _merge\n",
      "0     2009.0     Korkor      Labadi        both\n",
      "1     2010.0  Ewuradwoa    Kojokrom        both\n",
      "2     2008.0        Yaa     Adukrom        both\n",
      "3     2011.0     Akorfa       Buipe        both\n",
      "4     2012.0     Malema    Walewale        both\n",
      "5     2013.0        Zoe         NaN   left_only\n",
      "6        NaN     Akwele  James Town  right_only\n"
     ]
    }
   ],
   "source": [
    "print(pd.merge(Employee, Cities, on = 'Names', how = 'outer', indicator = True))"
   ]
  },
  {
   "cell_type": "code",
   "execution_count": null,
   "metadata": {},
   "outputs": [],
   "source": []
  }
 ],
 "metadata": {
  "kernelspec": {
   "display_name": "Python 3",
   "language": "python",
   "name": "python3"
  },
  "language_info": {
   "codemirror_mode": {
    "name": "ipython",
    "version": 3
   },
   "file_extension": ".py",
   "mimetype": "text/x-python",
   "name": "python",
   "nbconvert_exporter": "python",
   "pygments_lexer": "ipython3",
   "version": "3.7.4"
  }
 },
 "nbformat": 4,
 "nbformat_minor": 2
}
